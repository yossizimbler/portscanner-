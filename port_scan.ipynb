{
 "cells": [
  {
   "cell_type": "code",
   "execution_count": 19,
   "id": "145ae520",
   "metadata": {},
   "outputs": [],
   "source": [
    "import socket "
   ]
  },
  {
   "cell_type": "code",
   "execution_count": 20,
   "id": "37be4671",
   "metadata": {},
   "outputs": [
    {
     "name": "stdout",
     "output_type": "stream",
     "text": [
      "127.0.0.1\n"
     ]
    }
   ],
   "source": [
    "target = 'localhost' # we eneter the host/url \n",
    "targetIP = socket.gethostbyname(target) # gets ip address of host \n",
    "print(targetIP)\n",
    "ports = [] #list of open ports "
   ]
  },
  {
   "cell_type": "code",
   "execution_count": 21,
   "id": "3e58a06d",
   "metadata": {},
   "outputs": [],
   "source": [
    "def port_scan(port_num):\n",
    "    ourSocket = socket.socket(socket.AF_INET, socket.SOCK_STREAM)\n",
    "    ourSocket.settimeout(0.1)\n",
    "    if ourSocket.connect_ex((target, port_num)) == 0:\n",
    "        ports.append(port_num)\n",
    "    ourSocket.close()   "
   ]
  },
  {
   "cell_type": "code",
   "execution_count": 28,
   "id": "5bca6376",
   "metadata": {},
   "outputs": [
    {
     "name": "stdout",
     "output_type": "stream",
     "text": [
      "Target IP: localhost | Target IP: 127.0.0.1\n",
      "Port 8888: OPEN\n"
     ]
    }
   ],
   "source": [
    "for x in range(8887, 8890):\n",
    "    port_scan(x)\n",
    "    \n",
    "print(\"Target IP: {} | Target IP: {}\".format(target, targetIP))\n",
    "\n",
    "for port in ports: \n",
    "    print(\"Port {}: OPEN\".format(port))\n"
   ]
  },
  {
   "cell_type": "code",
   "execution_count": null,
   "id": "a2f342d0",
   "metadata": {},
   "outputs": [],
   "source": []
  },
  {
   "cell_type": "code",
   "execution_count": null,
   "id": "2d2a07f2",
   "metadata": {},
   "outputs": [],
   "source": []
  }
 ],
 "metadata": {
  "kernelspec": {
   "display_name": "Python 3 (ipykernel)",
   "language": "python",
   "name": "python3"
  },
  "language_info": {
   "codemirror_mode": {
    "name": "ipython",
    "version": 3
   },
   "file_extension": ".py",
   "mimetype": "text/x-python",
   "name": "python",
   "nbconvert_exporter": "python",
   "pygments_lexer": "ipython3",
   "version": "3.9.7"
  }
 },
 "nbformat": 4,
 "nbformat_minor": 5
}
